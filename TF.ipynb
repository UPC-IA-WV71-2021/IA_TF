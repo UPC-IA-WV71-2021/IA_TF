{
  "nbformat": 4,
  "nbformat_minor": 5,
  "metadata": {
    "kernelspec": {
      "display_name": "Python 3",
      "language": "python",
      "name": "python3"
    },
    "language_info": {
      "codemirror_mode": {
        "name": "ipython",
        "version": 3
      },
      "file_extension": ".py",
      "mimetype": "text/x-python",
      "name": "python",
      "nbconvert_exporter": "python",
      "pygments_lexer": "ipython3",
      "version": "3.8.5"
    },
    "colab": {
      "name": "TF.ipynb",
      "provenance": []
    }
  },
  "cells": [
    {
      "cell_type": "code",
      "metadata": {
        "id": "c1882658"
      },
      "source": [
        "import tensorflow as tf\n",
        "from tensorflow.keras.models import Sequential\n",
        "from tensorflow.keras.layers import Dense\n",
        "from tensorflow.keras.layers import Dropout\n",
        "from tensorflow.keras import regularizers\n",
        "from tensorflow.keras.callbacks import TensorBoard\n",
        "import os\n",
        "import tempfile\n",
        "import time\n",
        "import matplotlib as mpl\n",
        "import matplotlib.pyplot as plt\n",
        "import numpy as np\n",
        "import pandas as pd\n",
        "import seaborn as sns\n",
        "\n",
        "import sklearn\n",
        "from sklearn import preprocessing\n",
        "from sklearn.metrics import confusion_matrix\n",
        "from sklearn.model_selection import train_test_split\n",
        "from sklearn.preprocessing import StandardScaler\n",
        "\n",
        "NAME = \"Covid-Detection-{}\".format(int(time.time()))"
      ],
      "id": "c1882658",
      "execution_count": 1,
      "outputs": []
    },
    {
      "cell_type": "markdown",
      "metadata": {
        "id": "cbbb84d2"
      },
      "source": [
        "### Importing and showing dataset from kaggle repository"
      ],
      "id": "cbbb84d2"
    },
    {
      "cell_type": "code",
      "metadata": {
        "colab": {
          "base_uri": "https://localhost:8080/",
          "height": 249
        },
        "id": "7fb5da33",
        "outputId": "a5d7b882-7a49-448d-88e1-baf988635433"
      },
      "source": [
        "df = pd.read_csv(\"https://raw.githubusercontent.com/UPC-IA-WV71-2021/IA_TF/main/Cleaned-Data.csv\")\n",
        "df.head()"
      ],
      "id": "7fb5da33",
      "execution_count": 2,
      "outputs": [
        {
          "output_type": "execute_result",
          "data": {
            "text/html": [
              "<div>\n",
              "<style scoped>\n",
              "    .dataframe tbody tr th:only-of-type {\n",
              "        vertical-align: middle;\n",
              "    }\n",
              "\n",
              "    .dataframe tbody tr th {\n",
              "        vertical-align: top;\n",
              "    }\n",
              "\n",
              "    .dataframe thead th {\n",
              "        text-align: right;\n",
              "    }\n",
              "</style>\n",
              "<table border=\"1\" class=\"dataframe\">\n",
              "  <thead>\n",
              "    <tr style=\"text-align: right;\">\n",
              "      <th></th>\n",
              "      <th>Fever</th>\n",
              "      <th>Tiredness</th>\n",
              "      <th>Dry-Cough</th>\n",
              "      <th>Difficulty-in-Breathing</th>\n",
              "      <th>Sore-Throat</th>\n",
              "      <th>None_Sympton</th>\n",
              "      <th>Pains</th>\n",
              "      <th>Nasal-Congestion</th>\n",
              "      <th>Runny-Nose</th>\n",
              "      <th>Diarrhea</th>\n",
              "      <th>Infected</th>\n",
              "      <th>Age_0-9</th>\n",
              "      <th>Age_10-19</th>\n",
              "      <th>Age_20-24</th>\n",
              "      <th>Age_25-59</th>\n",
              "      <th>Age_60+</th>\n",
              "      <th>Gender_Female</th>\n",
              "      <th>Gender_Male</th>\n",
              "      <th>Gender_Transgender</th>\n",
              "      <th>Severity_Mild</th>\n",
              "      <th>Severity_Moderate</th>\n",
              "      <th>Severity_None</th>\n",
              "      <th>Severity_Severe</th>\n",
              "      <th>Contact_Dont-Know</th>\n",
              "      <th>Contact_No</th>\n",
              "      <th>Contact_Yes</th>\n",
              "      <th>Country</th>\n",
              "    </tr>\n",
              "  </thead>\n",
              "  <tbody>\n",
              "    <tr>\n",
              "      <th>0</th>\n",
              "      <td>1</td>\n",
              "      <td>1</td>\n",
              "      <td>1</td>\n",
              "      <td>1</td>\n",
              "      <td>1</td>\n",
              "      <td>0</td>\n",
              "      <td>1</td>\n",
              "      <td>1</td>\n",
              "      <td>1</td>\n",
              "      <td>1</td>\n",
              "      <td>0</td>\n",
              "      <td>1</td>\n",
              "      <td>0</td>\n",
              "      <td>0</td>\n",
              "      <td>0</td>\n",
              "      <td>0</td>\n",
              "      <td>0</td>\n",
              "      <td>1</td>\n",
              "      <td>0</td>\n",
              "      <td>1</td>\n",
              "      <td>0</td>\n",
              "      <td>0</td>\n",
              "      <td>0</td>\n",
              "      <td>0</td>\n",
              "      <td>0</td>\n",
              "      <td>1</td>\n",
              "      <td>China</td>\n",
              "    </tr>\n",
              "    <tr>\n",
              "      <th>1</th>\n",
              "      <td>1</td>\n",
              "      <td>1</td>\n",
              "      <td>1</td>\n",
              "      <td>1</td>\n",
              "      <td>1</td>\n",
              "      <td>0</td>\n",
              "      <td>1</td>\n",
              "      <td>1</td>\n",
              "      <td>1</td>\n",
              "      <td>1</td>\n",
              "      <td>0</td>\n",
              "      <td>1</td>\n",
              "      <td>0</td>\n",
              "      <td>0</td>\n",
              "      <td>0</td>\n",
              "      <td>0</td>\n",
              "      <td>0</td>\n",
              "      <td>1</td>\n",
              "      <td>0</td>\n",
              "      <td>1</td>\n",
              "      <td>0</td>\n",
              "      <td>0</td>\n",
              "      <td>0</td>\n",
              "      <td>0</td>\n",
              "      <td>1</td>\n",
              "      <td>0</td>\n",
              "      <td>China</td>\n",
              "    </tr>\n",
              "    <tr>\n",
              "      <th>2</th>\n",
              "      <td>1</td>\n",
              "      <td>1</td>\n",
              "      <td>1</td>\n",
              "      <td>1</td>\n",
              "      <td>1</td>\n",
              "      <td>0</td>\n",
              "      <td>1</td>\n",
              "      <td>1</td>\n",
              "      <td>1</td>\n",
              "      <td>1</td>\n",
              "      <td>0</td>\n",
              "      <td>1</td>\n",
              "      <td>0</td>\n",
              "      <td>0</td>\n",
              "      <td>0</td>\n",
              "      <td>0</td>\n",
              "      <td>0</td>\n",
              "      <td>1</td>\n",
              "      <td>0</td>\n",
              "      <td>1</td>\n",
              "      <td>0</td>\n",
              "      <td>0</td>\n",
              "      <td>0</td>\n",
              "      <td>1</td>\n",
              "      <td>0</td>\n",
              "      <td>0</td>\n",
              "      <td>China</td>\n",
              "    </tr>\n",
              "    <tr>\n",
              "      <th>3</th>\n",
              "      <td>1</td>\n",
              "      <td>1</td>\n",
              "      <td>1</td>\n",
              "      <td>1</td>\n",
              "      <td>1</td>\n",
              "      <td>0</td>\n",
              "      <td>1</td>\n",
              "      <td>1</td>\n",
              "      <td>1</td>\n",
              "      <td>1</td>\n",
              "      <td>0</td>\n",
              "      <td>1</td>\n",
              "      <td>0</td>\n",
              "      <td>0</td>\n",
              "      <td>0</td>\n",
              "      <td>0</td>\n",
              "      <td>0</td>\n",
              "      <td>1</td>\n",
              "      <td>0</td>\n",
              "      <td>0</td>\n",
              "      <td>1</td>\n",
              "      <td>0</td>\n",
              "      <td>0</td>\n",
              "      <td>0</td>\n",
              "      <td>0</td>\n",
              "      <td>1</td>\n",
              "      <td>China</td>\n",
              "    </tr>\n",
              "    <tr>\n",
              "      <th>4</th>\n",
              "      <td>1</td>\n",
              "      <td>1</td>\n",
              "      <td>1</td>\n",
              "      <td>1</td>\n",
              "      <td>1</td>\n",
              "      <td>0</td>\n",
              "      <td>1</td>\n",
              "      <td>1</td>\n",
              "      <td>1</td>\n",
              "      <td>1</td>\n",
              "      <td>0</td>\n",
              "      <td>1</td>\n",
              "      <td>0</td>\n",
              "      <td>0</td>\n",
              "      <td>0</td>\n",
              "      <td>0</td>\n",
              "      <td>0</td>\n",
              "      <td>1</td>\n",
              "      <td>0</td>\n",
              "      <td>0</td>\n",
              "      <td>1</td>\n",
              "      <td>0</td>\n",
              "      <td>0</td>\n",
              "      <td>0</td>\n",
              "      <td>1</td>\n",
              "      <td>0</td>\n",
              "      <td>China</td>\n",
              "    </tr>\n",
              "  </tbody>\n",
              "</table>\n",
              "</div>"
            ],
            "text/plain": [
              "   Fever  Tiredness  Dry-Cough  ...  Contact_No  Contact_Yes  Country\n",
              "0      1          1          1  ...           0            1    China\n",
              "1      1          1          1  ...           1            0    China\n",
              "2      1          1          1  ...           0            0    China\n",
              "3      1          1          1  ...           0            1    China\n",
              "4      1          1          1  ...           1            0    China\n",
              "\n",
              "[5 rows x 27 columns]"
            ]
          },
          "metadata": {
            "tags": []
          },
          "execution_count": 2
        }
      ]
    },
    {
      "cell_type": "markdown",
      "metadata": {
        "id": "58a5977b"
      },
      "source": [
        "### Prepare dataset for input layer"
      ],
      "id": "58a5977b"
    },
    {
      "cell_type": "markdown",
      "metadata": {
        "id": "JGvIcAgpkK6T"
      },
      "source": [
        "First, we need to get rid of the information that its not useful for detecting if a person is infected with coronavirus. This means, we need to modify the original dataset."
      ],
      "id": "JGvIcAgpkK6T"
    },
    {
      "cell_type": "code",
      "metadata": {
        "colab": {
          "base_uri": "https://localhost:8080/",
          "height": 195
        },
        "id": "e3a08fcf",
        "outputId": "17adead4-47cb-47d9-f117-af7ea90985a6"
      },
      "source": [
        "cols_to_drop = ['None_Sympton','Age_0-9','Age_10-19','Age_20-24','Age_25-59','Age_60+','Gender_Female','Gender_Male','Gender_Transgender','Severity_Mild','Severity_Moderate','Severity_None','Severity_Severe','Contact_Dont-Know','Contact_No','Contact_Yes','Country']\n",
        "df = df.drop(cols_to_drop, axis = 1)\n",
        "df.head()"
      ],
      "id": "e3a08fcf",
      "execution_count": 3,
      "outputs": [
        {
          "output_type": "execute_result",
          "data": {
            "text/html": [
              "<div>\n",
              "<style scoped>\n",
              "    .dataframe tbody tr th:only-of-type {\n",
              "        vertical-align: middle;\n",
              "    }\n",
              "\n",
              "    .dataframe tbody tr th {\n",
              "        vertical-align: top;\n",
              "    }\n",
              "\n",
              "    .dataframe thead th {\n",
              "        text-align: right;\n",
              "    }\n",
              "</style>\n",
              "<table border=\"1\" class=\"dataframe\">\n",
              "  <thead>\n",
              "    <tr style=\"text-align: right;\">\n",
              "      <th></th>\n",
              "      <th>Fever</th>\n",
              "      <th>Tiredness</th>\n",
              "      <th>Dry-Cough</th>\n",
              "      <th>Difficulty-in-Breathing</th>\n",
              "      <th>Sore-Throat</th>\n",
              "      <th>Pains</th>\n",
              "      <th>Nasal-Congestion</th>\n",
              "      <th>Runny-Nose</th>\n",
              "      <th>Diarrhea</th>\n",
              "      <th>Infected</th>\n",
              "    </tr>\n",
              "  </thead>\n",
              "  <tbody>\n",
              "    <tr>\n",
              "      <th>0</th>\n",
              "      <td>1</td>\n",
              "      <td>1</td>\n",
              "      <td>1</td>\n",
              "      <td>1</td>\n",
              "      <td>1</td>\n",
              "      <td>1</td>\n",
              "      <td>1</td>\n",
              "      <td>1</td>\n",
              "      <td>1</td>\n",
              "      <td>0</td>\n",
              "    </tr>\n",
              "    <tr>\n",
              "      <th>1</th>\n",
              "      <td>1</td>\n",
              "      <td>1</td>\n",
              "      <td>1</td>\n",
              "      <td>1</td>\n",
              "      <td>1</td>\n",
              "      <td>1</td>\n",
              "      <td>1</td>\n",
              "      <td>1</td>\n",
              "      <td>1</td>\n",
              "      <td>0</td>\n",
              "    </tr>\n",
              "    <tr>\n",
              "      <th>2</th>\n",
              "      <td>1</td>\n",
              "      <td>1</td>\n",
              "      <td>1</td>\n",
              "      <td>1</td>\n",
              "      <td>1</td>\n",
              "      <td>1</td>\n",
              "      <td>1</td>\n",
              "      <td>1</td>\n",
              "      <td>1</td>\n",
              "      <td>0</td>\n",
              "    </tr>\n",
              "    <tr>\n",
              "      <th>3</th>\n",
              "      <td>1</td>\n",
              "      <td>1</td>\n",
              "      <td>1</td>\n",
              "      <td>1</td>\n",
              "      <td>1</td>\n",
              "      <td>1</td>\n",
              "      <td>1</td>\n",
              "      <td>1</td>\n",
              "      <td>1</td>\n",
              "      <td>0</td>\n",
              "    </tr>\n",
              "    <tr>\n",
              "      <th>4</th>\n",
              "      <td>1</td>\n",
              "      <td>1</td>\n",
              "      <td>1</td>\n",
              "      <td>1</td>\n",
              "      <td>1</td>\n",
              "      <td>1</td>\n",
              "      <td>1</td>\n",
              "      <td>1</td>\n",
              "      <td>1</td>\n",
              "      <td>0</td>\n",
              "    </tr>\n",
              "  </tbody>\n",
              "</table>\n",
              "</div>"
            ],
            "text/plain": [
              "   Fever  Tiredness  Dry-Cough  ...  Runny-Nose  Diarrhea  Infected\n",
              "0      1          1          1  ...           1         1         0\n",
              "1      1          1          1  ...           1         1         0\n",
              "2      1          1          1  ...           1         1         0\n",
              "3      1          1          1  ...           1         1         0\n",
              "4      1          1          1  ...           1         1         0\n",
              "\n",
              "[5 rows x 10 columns]"
            ]
          },
          "metadata": {
            "tags": []
          },
          "execution_count": 3
        }
      ]
    },
    {
      "cell_type": "markdown",
      "metadata": {
        "id": "974bb216"
      },
      "source": [
        "We confirm that the data in the dataset now has only values that will be used for training."
      ],
      "id": "974bb216"
    },
    {
      "cell_type": "code",
      "metadata": {
        "colab": {
          "base_uri": "https://localhost:8080/"
        },
        "id": "e79c1c07",
        "outputId": "6b2a9d90-10e1-4b14-c3da-8803f691d776"
      },
      "source": [
        "df.info()"
      ],
      "id": "e79c1c07",
      "execution_count": 4,
      "outputs": [
        {
          "output_type": "stream",
          "text": [
            "<class 'pandas.core.frame.DataFrame'>\n",
            "RangeIndex: 316800 entries, 0 to 316799\n",
            "Data columns (total 10 columns):\n",
            " #   Column                   Non-Null Count   Dtype\n",
            "---  ------                   --------------   -----\n",
            " 0   Fever                    316800 non-null  int64\n",
            " 1   Tiredness                316800 non-null  int64\n",
            " 2   Dry-Cough                316800 non-null  int64\n",
            " 3   Difficulty-in-Breathing  316800 non-null  int64\n",
            " 4   Sore-Throat              316800 non-null  int64\n",
            " 5   Pains                    316800 non-null  int64\n",
            " 6   Nasal-Congestion         316800 non-null  int64\n",
            " 7   Runny-Nose               316800 non-null  int64\n",
            " 8   Diarrhea                 316800 non-null  int64\n",
            " 9   Infected                 316800 non-null  int64\n",
            "dtypes: int64(10)\n",
            "memory usage: 24.2 MB\n"
          ],
          "name": "stdout"
        }
      ]
    },
    {
      "cell_type": "markdown",
      "metadata": {
        "id": "c352852f"
      },
      "source": [
        "To analize the dataset this is converted into an array"
      ],
      "id": "c352852f"
    },
    {
      "cell_type": "code",
      "metadata": {
        "colab": {
          "base_uri": "https://localhost:8080/"
        },
        "id": "401f8de0",
        "outputId": "e8f24f49-892d-44cd-d242-7df124150aaa"
      },
      "source": [
        "dataset = df.values\n",
        "dataset"
      ],
      "id": "401f8de0",
      "execution_count": 5,
      "outputs": [
        {
          "output_type": "execute_result",
          "data": {
            "text/plain": [
              "array([[1, 1, 1, ..., 1, 1, 0],\n",
              "       [1, 1, 1, ..., 1, 1, 0],\n",
              "       [1, 1, 1, ..., 1, 1, 0],\n",
              "       ...,\n",
              "       [0, 0, 0, ..., 0, 0, 1],\n",
              "       [0, 0, 0, ..., 0, 0, 1],\n",
              "       [0, 0, 0, ..., 0, 0, 1]])"
            ]
          },
          "metadata": {
            "tags": []
          },
          "execution_count": 5
        }
      ]
    },
    {
      "cell_type": "markdown",
      "metadata": {
        "id": "lK6Or0Ucho-o"
      },
      "source": [
        "Here we define the metrics of the coordinate axes. Notice that the all rows in the dataset are asigned to \"X\", but we only extract the first 8 columns since those are the columns that are being analized in the future. Then, the column \"Infected\" is asigned to the Y axis."
      ],
      "id": "lK6Or0Ucho-o"
    },
    {
      "cell_type": "code",
      "metadata": {
        "id": "21d89ffb"
      },
      "source": [
        "X = dataset[: ,0:8]\n",
        "Y = dataset[: ,9]"
      ],
      "id": "21d89ffb",
      "execution_count": 6,
      "outputs": []
    },
    {
      "cell_type": "markdown",
      "metadata": {
        "id": "ZToLzNHfiFHV"
      },
      "source": [
        "We split the dataset into a test set, validation set and training set. The size of the validation and test will be 30% of the dataset. Then, we split again the validation set and test set so they have the same size."
      ],
      "id": "ZToLzNHfiFHV"
    },
    {
      "cell_type": "markdown",
      "metadata": {
        "id": "160ea2bb"
      },
      "source": [
        "Now, we have six variables that will be used in the dataset:\n",
        "\n",
        "*   X_train (70% of dataset, 5 input features)\n",
        "*   X_val (15% of dataset, 5 input features)\n",
        "*   X_test (15% of dataset, 5 input features)\n",
        "*   Y_train (70% of dataset, 1 label features)\n",
        "*   Y_val (15% of dataset, 1 label features)\n",
        "*   Y_test (15% of dataset, 1 label features)"
      ],
      "id": "160ea2bb"
    },
    {
      "cell_type": "code",
      "metadata": {
        "id": "2b5caa18"
      },
      "source": [
        "X_train, X_val_test, Y_train, Y_val_test = train_test_split(X, Y, test_size=0.3)"
      ],
      "id": "2b5caa18",
      "execution_count": 7,
      "outputs": []
    },
    {
      "cell_type": "code",
      "metadata": {
        "id": "t7R1s3kxh-Jh"
      },
      "source": [
        "X_val, X_test, Y_val, Y_test = train_test_split(X_val_test, Y_val_test, test_size=0.5)"
      ],
      "id": "t7R1s3kxh-Jh",
      "execution_count": 8,
      "outputs": []
    },
    {
      "cell_type": "markdown",
      "metadata": {
        "id": "2nzU0KdHiJCI"
      },
      "source": [
        "This shows the shapes of the arrays (i.e. their dimensions)"
      ],
      "id": "2nzU0KdHiJCI"
    },
    {
      "cell_type": "code",
      "metadata": {
        "colab": {
          "base_uri": "https://localhost:8080/"
        },
        "id": "4PsR4zZViMJ8",
        "outputId": "20ab1519-0ac0-4289-b6f3-c8af192c4eb8"
      },
      "source": [
        "print(X_train.shape, X_val.shape, X_test.shape, Y_train.shape, Y_val.shape, Y_test.shape)"
      ],
      "id": "4PsR4zZViMJ8",
      "execution_count": 9,
      "outputs": [
        {
          "output_type": "stream",
          "text": [
            "(221760, 8) (47520, 8) (47520, 8) (221760,) (47520,) (47520,)\n"
          ],
          "name": "stdout"
        }
      ]
    },
    {
      "cell_type": "markdown",
      "metadata": {
        "id": "4fw8iUG6iRFi"
      },
      "source": [
        "The training set has 221760 data points, the validation set has 47520 data points and the test set has 47520 data points. This is because the amount of data in the dataset is odd. The X variables have 8 input features, while the Y variables has one feature (the one to predict if a person has coronavirus)."
      ],
      "id": "4fw8iUG6iRFi"
    },
    {
      "cell_type": "markdown",
      "metadata": {
        "id": "Kfxk0t_ykn05"
      },
      "source": [
        "###CNN"
      ],
      "id": "Kfxk0t_ykn05"
    },
    {
      "cell_type": "markdown",
      "metadata": {
        "id": "1eFm1o41kqi1"
      },
      "source": [
        "####Setting up the Architecture"
      ],
      "id": "1eFm1o41kqi1"
    },
    {
      "cell_type": "code",
      "metadata": {
        "id": "1PtqxTH_ksGq"
      },
      "source": [
        "model = Sequential([ #the model will be stored in the variable and it will be described sequentially\n",
        "    Dense(32, activation='relu', input_shape=(8,)), #first dense layer with 32 neurons, RelU activation and 5 inputs\n",
        "    Dense(32, activation='relu'), #second dense layer with 32 neurons and RelU activation\n",
        "    Dense(1, activation='sigmoid'), #third dense layer with 1 neuron and sigmoid activation \n",
        "])"
      ],
      "id": "1PtqxTH_ksGq",
      "execution_count": 11,
      "outputs": []
    },
    {
      "cell_type": "code",
      "metadata": {
        "id": "M0pbmlqikteQ"
      },
      "source": [
        "model.compile(optimizer='sgd', #using Stochastic Gradient Descent algorithm\n",
        "              loss='binary_crossentropy', #loss function for outputs (takes values 1 or 0)\n",
        "              metrics=['accuracy']) #tracks the accuracy"
      ],
      "id": "M0pbmlqikteQ",
      "execution_count": 12,
      "outputs": []
    },
    {
      "cell_type": "code",
      "metadata": {
        "colab": {
          "base_uri": "https://localhost:8080/"
        },
        "id": "ArLFuI5IkvTy",
        "outputId": "f506f9a7-9fd1-4841-d9b6-aa13d86fe3ab"
      },
      "source": [
        "h = model.fit(X_train, Y_train,\n",
        "          batch_size=32, epochs=100,  \n",
        "          validation_data=(X_val, Y_val))"
      ],
      "id": "ArLFuI5IkvTy",
      "execution_count": 13,
      "outputs": [
        {
          "output_type": "stream",
          "text": [
            "Epoch 1/100\n",
            "6930/6930 [==============================] - 11s 1ms/step - loss: 0.1503 - accuracy: 0.9088 - val_loss: 0.1275 - val_accuracy: 0.9090\n",
            "Epoch 2/100\n",
            "6930/6930 [==============================] - 9s 1ms/step - loss: 0.1269 - accuracy: 0.9088 - val_loss: 0.1264 - val_accuracy: 0.9095\n",
            "Epoch 3/100\n",
            "6930/6930 [==============================] - 9s 1ms/step - loss: 0.1264 - accuracy: 0.9086 - val_loss: 0.1261 - val_accuracy: 0.9079\n",
            "Epoch 4/100\n",
            "6930/6930 [==============================] - 10s 1ms/step - loss: 0.1263 - accuracy: 0.9095 - val_loss: 0.1260 - val_accuracy: 0.9082\n",
            "Epoch 5/100\n",
            "6930/6930 [==============================] - 10s 1ms/step - loss: 0.1262 - accuracy: 0.9088 - val_loss: 0.1259 - val_accuracy: 0.9073\n",
            "Epoch 6/100\n",
            "6930/6930 [==============================] - 9s 1ms/step - loss: 0.1261 - accuracy: 0.9095 - val_loss: 0.1260 - val_accuracy: 0.9073\n",
            "Epoch 7/100\n",
            "6930/6930 [==============================] - 9s 1ms/step - loss: 0.1261 - accuracy: 0.9092 - val_loss: 0.1259 - val_accuracy: 0.9080\n",
            "Epoch 8/100\n",
            "6930/6930 [==============================] - 10s 1ms/step - loss: 0.1261 - accuracy: 0.9087 - val_loss: 0.1263 - val_accuracy: 0.9084\n",
            "Epoch 9/100\n",
            "6930/6930 [==============================] - 10s 1ms/step - loss: 0.1261 - accuracy: 0.9090 - val_loss: 0.1260 - val_accuracy: 0.9095\n",
            "Epoch 10/100\n",
            "6930/6930 [==============================] - 9s 1ms/step - loss: 0.1261 - accuracy: 0.9091 - val_loss: 0.1259 - val_accuracy: 0.9095\n",
            "Epoch 11/100\n",
            "6930/6930 [==============================] - 10s 1ms/step - loss: 0.1261 - accuracy: 0.9089 - val_loss: 0.1259 - val_accuracy: 0.9096\n",
            "Epoch 12/100\n",
            "6930/6930 [==============================] - 9s 1ms/step - loss: 0.1261 - accuracy: 0.9085 - val_loss: 0.1259 - val_accuracy: 0.9079\n",
            "Epoch 13/100\n",
            "6930/6930 [==============================] - 10s 1ms/step - loss: 0.1260 - accuracy: 0.9096 - val_loss: 0.1260 - val_accuracy: 0.9084\n",
            "Epoch 14/100\n",
            "6930/6930 [==============================] - 9s 1ms/step - loss: 0.1260 - accuracy: 0.9096 - val_loss: 0.1258 - val_accuracy: 0.9086\n",
            "Epoch 15/100\n",
            "6930/6930 [==============================] - 10s 1ms/step - loss: 0.1260 - accuracy: 0.9094 - val_loss: 0.1259 - val_accuracy: 0.9084\n",
            "Epoch 16/100\n",
            "6930/6930 [==============================] - 10s 1ms/step - loss: 0.1260 - accuracy: 0.9089 - val_loss: 0.1258 - val_accuracy: 0.9071\n",
            "Epoch 17/100\n",
            "6930/6930 [==============================] - 10s 1ms/step - loss: 0.1260 - accuracy: 0.9085 - val_loss: 0.1260 - val_accuracy: 0.9068\n",
            "Epoch 18/100\n",
            "6930/6930 [==============================] - 9s 1ms/step - loss: 0.1260 - accuracy: 0.9096 - val_loss: 0.1260 - val_accuracy: 0.9086\n",
            "Epoch 19/100\n",
            "6930/6930 [==============================] - 10s 1ms/step - loss: 0.1260 - accuracy: 0.9097 - val_loss: 0.1263 - val_accuracy: 0.9084\n",
            "Epoch 20/100\n",
            "6930/6930 [==============================] - 9s 1ms/step - loss: 0.1261 - accuracy: 0.9089 - val_loss: 0.1258 - val_accuracy: 0.9087\n",
            "Epoch 21/100\n",
            "6930/6930 [==============================] - 10s 1ms/step - loss: 0.1260 - accuracy: 0.9088 - val_loss: 0.1263 - val_accuracy: 0.9084\n",
            "Epoch 22/100\n",
            "6930/6930 [==============================] - 9s 1ms/step - loss: 0.1260 - accuracy: 0.9087 - val_loss: 0.1261 - val_accuracy: 0.9084\n",
            "Epoch 23/100\n",
            "6930/6930 [==============================] - 10s 1ms/step - loss: 0.1260 - accuracy: 0.9090 - val_loss: 0.1259 - val_accuracy: 0.9072\n",
            "Epoch 24/100\n",
            "6930/6930 [==============================] - 9s 1ms/step - loss: 0.1260 - accuracy: 0.9090 - val_loss: 0.1258 - val_accuracy: 0.9081\n",
            "Epoch 25/100\n",
            "6930/6930 [==============================] - 9s 1ms/step - loss: 0.1260 - accuracy: 0.9092 - val_loss: 0.1261 - val_accuracy: 0.9084\n",
            "Epoch 26/100\n",
            "6930/6930 [==============================] - 9s 1ms/step - loss: 0.1260 - accuracy: 0.9087 - val_loss: 0.1259 - val_accuracy: 0.9074\n",
            "Epoch 27/100\n",
            "6930/6930 [==============================] - 10s 1ms/step - loss: 0.1260 - accuracy: 0.9092 - val_loss: 0.1258 - val_accuracy: 0.9073\n",
            "Epoch 28/100\n",
            "6930/6930 [==============================] - 10s 1ms/step - loss: 0.1260 - accuracy: 0.9094 - val_loss: 0.1260 - val_accuracy: 0.9074\n",
            "Epoch 29/100\n",
            "6930/6930 [==============================] - 10s 1ms/step - loss: 0.1260 - accuracy: 0.9083 - val_loss: 0.1259 - val_accuracy: 0.9074\n",
            "Epoch 30/100\n",
            "6930/6930 [==============================] - 9s 1ms/step - loss: 0.1260 - accuracy: 0.9097 - val_loss: 0.1260 - val_accuracy: 0.9084\n",
            "Epoch 31/100\n",
            "6930/6930 [==============================] - 9s 1ms/step - loss: 0.1260 - accuracy: 0.9091 - val_loss: 0.1262 - val_accuracy: 0.9081\n",
            "Epoch 32/100\n",
            "6930/6930 [==============================] - 10s 1ms/step - loss: 0.1260 - accuracy: 0.9091 - val_loss: 0.1259 - val_accuracy: 0.9072\n",
            "Epoch 33/100\n",
            "6930/6930 [==============================] - 9s 1ms/step - loss: 0.1260 - accuracy: 0.9087 - val_loss: 0.1258 - val_accuracy: 0.9100\n",
            "Epoch 34/100\n",
            "6930/6930 [==============================] - 10s 1ms/step - loss: 0.1260 - accuracy: 0.9083 - val_loss: 0.1259 - val_accuracy: 0.9065\n",
            "Epoch 35/100\n",
            "6930/6930 [==============================] - 9s 1ms/step - loss: 0.1260 - accuracy: 0.9085 - val_loss: 0.1260 - val_accuracy: 0.9084\n",
            "Epoch 36/100\n",
            "6930/6930 [==============================] - 9s 1ms/step - loss: 0.1260 - accuracy: 0.9094 - val_loss: 0.1258 - val_accuracy: 0.9080\n",
            "Epoch 37/100\n",
            "6930/6930 [==============================] - 10s 1ms/step - loss: 0.1260 - accuracy: 0.9088 - val_loss: 0.1259 - val_accuracy: 0.9072\n",
            "Epoch 38/100\n",
            "6930/6930 [==============================] - 9s 1ms/step - loss: 0.1260 - accuracy: 0.9091 - val_loss: 0.1259 - val_accuracy: 0.9065\n",
            "Epoch 39/100\n",
            "6930/6930 [==============================] - 9s 1ms/step - loss: 0.1260 - accuracy: 0.9091 - val_loss: 0.1258 - val_accuracy: 0.9091\n",
            "Epoch 40/100\n",
            "6930/6930 [==============================] - 9s 1ms/step - loss: 0.1260 - accuracy: 0.9097 - val_loss: 0.1258 - val_accuracy: 0.9086\n",
            "Epoch 41/100\n",
            "6930/6930 [==============================] - 10s 1ms/step - loss: 0.1260 - accuracy: 0.9097 - val_loss: 0.1259 - val_accuracy: 0.9084\n",
            "Epoch 42/100\n",
            "6930/6930 [==============================] - 9s 1ms/step - loss: 0.1260 - accuracy: 0.9087 - val_loss: 0.1258 - val_accuracy: 0.9079\n",
            "Epoch 43/100\n",
            "6930/6930 [==============================] - 10s 1ms/step - loss: 0.1260 - accuracy: 0.9092 - val_loss: 0.1260 - val_accuracy: 0.9103\n",
            "Epoch 44/100\n",
            "6930/6930 [==============================] - 10s 1ms/step - loss: 0.1260 - accuracy: 0.9091 - val_loss: 0.1258 - val_accuracy: 0.9103\n",
            "Epoch 45/100\n",
            "6930/6930 [==============================] - 9s 1ms/step - loss: 0.1260 - accuracy: 0.9087 - val_loss: 0.1259 - val_accuracy: 0.9065\n",
            "Epoch 46/100\n",
            "6930/6930 [==============================] - 9s 1ms/step - loss: 0.1260 - accuracy: 0.9099 - val_loss: 0.1261 - val_accuracy: 0.9084\n",
            "Epoch 47/100\n",
            "6930/6930 [==============================] - 9s 1ms/step - loss: 0.1260 - accuracy: 0.9092 - val_loss: 0.1260 - val_accuracy: 0.9103\n",
            "Epoch 48/100\n",
            "6930/6930 [==============================] - 10s 1ms/step - loss: 0.1260 - accuracy: 0.9090 - val_loss: 0.1258 - val_accuracy: 0.9080\n",
            "Epoch 49/100\n",
            "6930/6930 [==============================] - 10s 1ms/step - loss: 0.1259 - accuracy: 0.9097 - val_loss: 0.1260 - val_accuracy: 0.9084\n",
            "Epoch 50/100\n",
            "6930/6930 [==============================] - 9s 1ms/step - loss: 0.1260 - accuracy: 0.9090 - val_loss: 0.1258 - val_accuracy: 0.9077\n",
            "Epoch 51/100\n",
            "6930/6930 [==============================] - 9s 1ms/step - loss: 0.1259 - accuracy: 0.9087 - val_loss: 0.1258 - val_accuracy: 0.9074\n",
            "Epoch 52/100\n",
            "6930/6930 [==============================] - 9s 1ms/step - loss: 0.1259 - accuracy: 0.9090 - val_loss: 0.1258 - val_accuracy: 0.9090\n",
            "Epoch 53/100\n",
            "6930/6930 [==============================] - 9s 1ms/step - loss: 0.1259 - accuracy: 0.9097 - val_loss: 0.1260 - val_accuracy: 0.9086\n",
            "Epoch 54/100\n",
            "6930/6930 [==============================] - 10s 1ms/step - loss: 0.1259 - accuracy: 0.9097 - val_loss: 0.1258 - val_accuracy: 0.9086\n",
            "Epoch 55/100\n",
            "6930/6930 [==============================] - 9s 1ms/step - loss: 0.1259 - accuracy: 0.9097 - val_loss: 0.1259 - val_accuracy: 0.9065\n",
            "Epoch 56/100\n",
            "6930/6930 [==============================] - 10s 1ms/step - loss: 0.1259 - accuracy: 0.9088 - val_loss: 0.1258 - val_accuracy: 0.9103\n",
            "Epoch 57/100\n",
            "6930/6930 [==============================] - 10s 1ms/step - loss: 0.1260 - accuracy: 0.9086 - val_loss: 0.1258 - val_accuracy: 0.9087\n",
            "Epoch 58/100\n",
            "6930/6930 [==============================] - 10s 1ms/step - loss: 0.1259 - accuracy: 0.9086 - val_loss: 0.1260 - val_accuracy: 0.9084\n",
            "Epoch 59/100\n",
            "6930/6930 [==============================] - 10s 1ms/step - loss: 0.1259 - accuracy: 0.9090 - val_loss: 0.1258 - val_accuracy: 0.9087\n",
            "Epoch 60/100\n",
            "6930/6930 [==============================] - 10s 1ms/step - loss: 0.1259 - accuracy: 0.9093 - val_loss: 0.1258 - val_accuracy: 0.9075\n",
            "Epoch 61/100\n",
            "6930/6930 [==============================] - 10s 1ms/step - loss: 0.1259 - accuracy: 0.9093 - val_loss: 0.1260 - val_accuracy: 0.9084\n",
            "Epoch 62/100\n",
            "6930/6930 [==============================] - 10s 1ms/step - loss: 0.1259 - accuracy: 0.9092 - val_loss: 0.1258 - val_accuracy: 0.9099\n",
            "Epoch 63/100\n",
            "6930/6930 [==============================] - 10s 1ms/step - loss: 0.1259 - accuracy: 0.9097 - val_loss: 0.1258 - val_accuracy: 0.9074\n",
            "Epoch 64/100\n",
            "6930/6930 [==============================] - 10s 1ms/step - loss: 0.1259 - accuracy: 0.9090 - val_loss: 0.1258 - val_accuracy: 0.9067\n",
            "Epoch 65/100\n",
            "6930/6930 [==============================] - 9s 1ms/step - loss: 0.1259 - accuracy: 0.9091 - val_loss: 0.1259 - val_accuracy: 0.9079\n",
            "Epoch 66/100\n",
            "6930/6930 [==============================] - 9s 1ms/step - loss: 0.1259 - accuracy: 0.9090 - val_loss: 0.1258 - val_accuracy: 0.9062\n",
            "Epoch 67/100\n",
            "6930/6930 [==============================] - 10s 1ms/step - loss: 0.1259 - accuracy: 0.9090 - val_loss: 0.1258 - val_accuracy: 0.9092\n",
            "Epoch 68/100\n",
            "6930/6930 [==============================] - 10s 1ms/step - loss: 0.1259 - accuracy: 0.9087 - val_loss: 0.1258 - val_accuracy: 0.9066\n",
            "Epoch 69/100\n",
            "6930/6930 [==============================] - 10s 1ms/step - loss: 0.1259 - accuracy: 0.9097 - val_loss: 0.1258 - val_accuracy: 0.9103\n",
            "Epoch 70/100\n",
            "6930/6930 [==============================] - 9s 1ms/step - loss: 0.1259 - accuracy: 0.9097 - val_loss: 0.1260 - val_accuracy: 0.9084\n",
            "Epoch 71/100\n",
            "6930/6930 [==============================] - 9s 1ms/step - loss: 0.1259 - accuracy: 0.9097 - val_loss: 0.1258 - val_accuracy: 0.9077\n",
            "Epoch 72/100\n",
            "6930/6930 [==============================] - 9s 1ms/step - loss: 0.1259 - accuracy: 0.9092 - val_loss: 0.1258 - val_accuracy: 0.9088\n",
            "Epoch 73/100\n",
            "6930/6930 [==============================] - 9s 1ms/step - loss: 0.1259 - accuracy: 0.9095 - val_loss: 0.1258 - val_accuracy: 0.9094\n",
            "Epoch 74/100\n",
            "6930/6930 [==============================] - 9s 1ms/step - loss: 0.1259 - accuracy: 0.9090 - val_loss: 0.1258 - val_accuracy: 0.9103\n",
            "Epoch 75/100\n",
            "6930/6930 [==============================] - 10s 1ms/step - loss: 0.1259 - accuracy: 0.9094 - val_loss: 0.1258 - val_accuracy: 0.9075\n",
            "Epoch 76/100\n",
            "6930/6930 [==============================] - 9s 1ms/step - loss: 0.1259 - accuracy: 0.9094 - val_loss: 0.1258 - val_accuracy: 0.9075\n",
            "Epoch 77/100\n",
            "6930/6930 [==============================] - 9s 1ms/step - loss: 0.1259 - accuracy: 0.9089 - val_loss: 0.1258 - val_accuracy: 0.9067\n",
            "Epoch 78/100\n",
            "6930/6930 [==============================] - 10s 1ms/step - loss: 0.1259 - accuracy: 0.9095 - val_loss: 0.1258 - val_accuracy: 0.9065\n",
            "Epoch 79/100\n",
            "6930/6930 [==============================] - 9s 1ms/step - loss: 0.1259 - accuracy: 0.9095 - val_loss: 0.1258 - val_accuracy: 0.9096\n",
            "Epoch 80/100\n",
            "6930/6930 [==============================] - 9s 1ms/step - loss: 0.1259 - accuracy: 0.9093 - val_loss: 0.1258 - val_accuracy: 0.9075\n",
            "Epoch 81/100\n",
            "6930/6930 [==============================] - 10s 1ms/step - loss: 0.1259 - accuracy: 0.9095 - val_loss: 0.1260 - val_accuracy: 0.9084\n",
            "Epoch 82/100\n",
            "6930/6930 [==============================] - 10s 1ms/step - loss: 0.1259 - accuracy: 0.9097 - val_loss: 0.1258 - val_accuracy: 0.9075\n",
            "Epoch 83/100\n",
            "6930/6930 [==============================] - 10s 1ms/step - loss: 0.1259 - accuracy: 0.9091 - val_loss: 0.1258 - val_accuracy: 0.9065\n",
            "Epoch 84/100\n",
            "6930/6930 [==============================] - 10s 1ms/step - loss: 0.1259 - accuracy: 0.9086 - val_loss: 0.1258 - val_accuracy: 0.9065\n",
            "Epoch 85/100\n",
            "6930/6930 [==============================] - 9s 1ms/step - loss: 0.1259 - accuracy: 0.9094 - val_loss: 0.1258 - val_accuracy: 0.9066\n",
            "Epoch 86/100\n",
            "6930/6930 [==============================] - 10s 1ms/step - loss: 0.1259 - accuracy: 0.9096 - val_loss: 0.1259 - val_accuracy: 0.9075\n",
            "Epoch 87/100\n",
            "6930/6930 [==============================] - 9s 1ms/step - loss: 0.1259 - accuracy: 0.9096 - val_loss: 0.1258 - val_accuracy: 0.9077\n",
            "Epoch 88/100\n",
            "6930/6930 [==============================] - 10s 1ms/step - loss: 0.1259 - accuracy: 0.9091 - val_loss: 0.1258 - val_accuracy: 0.9082\n",
            "Epoch 89/100\n",
            "6930/6930 [==============================] - 10s 1ms/step - loss: 0.1259 - accuracy: 0.9093 - val_loss: 0.1258 - val_accuracy: 0.9065\n",
            "Epoch 90/100\n",
            "6930/6930 [==============================] - 10s 1ms/step - loss: 0.1259 - accuracy: 0.9088 - val_loss: 0.1258 - val_accuracy: 0.9084\n",
            "Epoch 91/100\n",
            "6930/6930 [==============================] - 10s 1ms/step - loss: 0.1259 - accuracy: 0.9098 - val_loss: 0.1258 - val_accuracy: 0.9068\n",
            "Epoch 92/100\n",
            "6930/6930 [==============================] - 10s 1ms/step - loss: 0.1259 - accuracy: 0.9095 - val_loss: 0.1258 - val_accuracy: 0.9103\n",
            "Epoch 93/100\n",
            "6930/6930 [==============================] - 9s 1ms/step - loss: 0.1259 - accuracy: 0.9090 - val_loss: 0.1259 - val_accuracy: 0.9068\n",
            "Epoch 94/100\n",
            "6930/6930 [==============================] - 10s 1ms/step - loss: 0.1259 - accuracy: 0.9100 - val_loss: 0.1259 - val_accuracy: 0.9065\n",
            "Epoch 95/100\n",
            "6930/6930 [==============================] - 10s 1ms/step - loss: 0.1259 - accuracy: 0.9094 - val_loss: 0.1259 - val_accuracy: 0.9065\n",
            "Epoch 96/100\n",
            "6930/6930 [==============================] - 9s 1ms/step - loss: 0.1259 - accuracy: 0.9094 - val_loss: 0.1258 - val_accuracy: 0.9088\n",
            "Epoch 97/100\n",
            "6930/6930 [==============================] - 9s 1ms/step - loss: 0.1259 - accuracy: 0.9093 - val_loss: 0.1258 - val_accuracy: 0.9090\n",
            "Epoch 98/100\n",
            "6930/6930 [==============================] - 9s 1ms/step - loss: 0.1259 - accuracy: 0.9094 - val_loss: 0.1258 - val_accuracy: 0.9103\n",
            "Epoch 99/100\n",
            "6930/6930 [==============================] - 10s 1ms/step - loss: 0.1259 - accuracy: 0.9086 - val_loss: 0.1258 - val_accuracy: 0.9065\n",
            "Epoch 100/100\n",
            "6930/6930 [==============================] - 10s 1ms/step - loss: 0.1259 - accuracy: 0.9092 - val_loss: 0.1259 - val_accuracy: 0.9075\n"
          ],
          "name": "stdout"
        }
      ]
    },
    {
      "cell_type": "code",
      "metadata": {
        "colab": {
          "base_uri": "https://localhost:8080/"
        },
        "id": "9sQOEmqBotBh",
        "outputId": "baf761db-de30-4a33-8c05-f5a89f221acf"
      },
      "source": [
        "model.evaluate(X_test, Y_test)[1] #index 1 returns accuracy, index 0 returns loss"
      ],
      "id": "9sQOEmqBotBh",
      "execution_count": 14,
      "outputs": [
        {
          "output_type": "stream",
          "text": [
            "1485/1485 [==============================] - 1s 991us/step - loss: 0.1272 - accuracy: 0.9076\n"
          ],
          "name": "stdout"
        },
        {
          "output_type": "execute_result",
          "data": {
            "text/plain": [
              "0.9075546860694885"
            ]
          },
          "metadata": {
            "tags": []
          },
          "execution_count": 14
        }
      ]
    }
  ]
}